 {
 "cells": [
  {
   "cell_type": "markdown",
   "metadata": {},
   "source": [
    "### <b> Escaping from the maze"
   ]
  },
  {
   "cell_type": "markdown",
   "metadata": {},
   "source": [
    "# Part 1"
   ]
  },
  {
   "cell_type": "markdown",
   "metadata": {},
   "source": [
    "* Input data: <b>maze</b> — matrix which consists 0 and 1, 0 means that we can go to this cell, 1 — that we can't, <b>start position</b> — tuple of coordinates in maze. \n",
    "* Output data: True if we can get to the bottom right corner from start position, false in other case."
   ]
  },
  {
   "cell_type": "code",
   "execution_count": 10,
   "metadata": {},
   "outputs": [],
   "source": [
    "def can_escape(maze, i=0, j=0):\n",
    "    n, m = len(maze), len(maze[0])\n",
    "    if i == n-1 and j == m-1:\n",
    "        return True\n",
    "    maze[i][j] = 1\n",
    "    res = False\n",
    "    for x, y in [(i-1, j), (i, j-1), (i+1, j), (i, j+1)]:\n",
    "        if 0 <= x < n and 0 <= y < m and maze[x][y] == 0:            \n",
    "            res = res or can_escape(maze, x, y)\n",
    "    maze[i][j] = 0\n",
    "    return res\n",
    "    "
   ]
  },
  {
   "cell_type": "code",
   "execution_count": 11,
   "metadata": {},
   "outputs": [],
   "source": [
    "maze_1 = [[0, 1, 1],\n",
    "          [0, 1, 1],\n",
    "          [0, 0, 0]]\n",
    "maze_2 = [[0, 1, 1],\n",
    "          [0, 1, 1],\n",
    "          [1, 0, 0]]\n",
    "\n",
    "assert can_escape(maze_1), 'Mission failed'\n",
    "assert can_escape(maze_2) == False, 'Mission failed'"
   ]
  },
  {
   "cell_type": "markdown",
   "metadata": {},
   "source": [
    "# Part 2"
   ]
  },
  {
   "cell_type": "markdown",
   "metadata": {},
   "source": [
    "* <b>Implement function <i>fastest_escapes(maze)</i></b> that takes a maze and returns a list of all shortest paths from upper left corner to the lower right.\n",
    "* <b>Implement function <i>fastest_escapes_length(maze)</i></b> that returns the length of the shortest path from upper left to lower right corner. The length of a path is the number of cells it passes through. If there is no path, the function should return \"inf\"."
   ]
  },
  {
   "cell_type": "markdown",
   "metadata": {},
   "source": [
    "* Input data: <b>maze</b> — matrix which consists 0 and 1, 0 means that we can go to this cell, 1 — that we can't.\n",
    "* Output data: list of cells along the path."
   ]
  },
  {
   "cell_type": "code",
   "execution_count": 15,
   "metadata": {},
   "outputs": [],
   "source": [
    "def escapes(maze, path, ways, i=0, j=0):\n",
    "    n = len(maze)\n",
    "    m = len(maze[0])\n",
    "    if i == n - 1 and j == m - 1:\n",
    "        path.insert(0, (0, 0))\n",
    "        length = len(path)\n",
    "        if length in ways.keys():\n",
    "            ways[length].append(path.copy())\n",
    "        else:\n",
    "            ways[length] = [path.copy()]\n",
    "        path.pop(0)\n",
    "        return ways\n",
    "    maze[i][j] = 1\n",
    "    for a, b in [(i-1, j), (i, j-1), (i+1, j), (i, j+1)]:\n",
    "        if 0 <= a < n and 0 <= b < m and maze[a][b] == 0:\n",
    "            path.append((a, b))\n",
    "            ways = escapes(maze, path, ways, a, b)\n",
    "            path.pop()\n",
    "    maze[i][j] = 0\n",
    "    return ways\n",
    "\n",
    "def fastest_escape_length(maze):\n",
    "    ways = {}\n",
    "    path = []\n",
    "    ways = escapes(maze, path, ways)\n",
    "    lengths = ways.keys()\n",
    "    if len(lengths) == 0:\n",
    "        return inf\n",
    "    else:\n",
    "        return min(lengths)\n",
    "\n",
    "def fastest_escapes(maze):\n",
    "    ways = {}\n",
    "    path = []\n",
    "    ways = escapes(maze, path, ways)\n",
    "    lengths = ways.keys()\n",
    "    if len(lengths) == 0:\n",
    "        return []\n",
    "    else:\n",
    "        return ways[min(lengths)]\n"
   ]
  },
  {
   "cell_type": "code",
   "execution_count": 17,
   "metadata": {},
   "outputs": [],
   "source": [
    "maze_1 = [[0, 1, 1],\n",
    "          [0, 1, 1],\n",
    "          [0, 0, 0]]\n",
    "\n",
    "assert fastest_escapes(maze_1) == [[(0, 0), (1, 0), (2, 0), (2, 1), (2, 2)]], 'Mission failed'\n",
    "assert fastest_escape_length(maze_1) == 5, 'Mission failed'"
   ]
  },
  {
   "cell_type": "markdown",
   "metadata": {},
   "source": [
    "# Part 3"
   ]
  },
  {
   "cell_type": "markdown",
   "metadata": {},
   "source": [
    "* <b>Implement function weighted_escape_length(maze, w)</b> that takes a <b>maze</b> and a nonnegative int <b>w</b> and return the length of the shortest path from the upper left corner to lower right if it allowed to pass through the walls, but each wall is considered equivalent to <b>w</b> empty cells. \n",
    "* <b>Implement function weighted escapes(maze, with)</b> that returns a list of shortest paths in the along the cost of passing through the walls."
   ]
  },
  {
   "cell_type": "code",
   "execution_count": 19,
   "metadata": {},
   "outputs": [],
   "source": [
    "from pprint import pprint\n",
    "from math import inf\n",
    "\n",
    "\n",
    "def all_weighted_escapes(maze, path, ways, weight, i=0, j=0, long=0):\n",
    "    n = len(maze)\n",
    "    m = len(maze[0])\n",
    "    if i == n - 1 and j == m - 1:\n",
    "        long += 1\n",
    "        path.insert(0, (0, 0))\n",
    "        if long in ways.keys():\n",
    "            ways[long].append(path.copy())\n",
    "        else:\n",
    "            ways[long] = [path.copy()]\n",
    "        path.pop(0)\n",
    "        return ways\n",
    "    tmp = maze[i][j]\n",
    "    maze[i][j] = 2\n",
    "    for a, b in [(i-1, j), (i, j-1), (i+1, j), (i, j+1)]:\n",
    "        if 0 <= a < n and 0 <= b < m and (maze[a][b] == 0 or maze[a][b] == 1):\n",
    "            if maze[a][b] == 0:\n",
    "                long += 1\n",
    "            else:\n",
    "                long += weight\n",
    "            path.append((a, b))\n",
    "            ways = all_weighted_escapes(maze, path, ways, weight, a, b, long)\n",
    "            if maze[a][b] == 0:\n",
    "                long -= 1\n",
    "            else:\n",
    "                long -= weight\n",
    "            path.pop()\n",
    "    maze[i][j] = tmp\n",
    "    return ways\n",
    "\n",
    "\n",
    "def weighted_escape_length(maze, w):\n",
    "    path = []\n",
    "    ways = {}\n",
    "    ways = all_weighted_escapes(maze, path, ways, w)\n",
    "    lengths = ways.keys()\n",
    "    if len(lengths) == 0:\n",
    "        return inf\n",
    "    else:\n",
    "        return min(lengths)\n",
    "\n",
    "\n",
    "def weighted_escapes(maze, w):\n",
    "    path = []\n",
    "    ways = {}\n",
    "    ways = all_weighted_escapes(maze, path, ways, w)\n",
    "    lengths = ways.keys()\n",
    "    if len(lengths) == 0:\n",
    "        return inf\n",
    "    else:\n",
    "        return ways[min(lengths)]"
   ]
  },
  {
   "cell_type": "code",
   "execution_count": 31,
   "metadata": {},
   "outputs": [],
   "source": [
    "maze_1 = [[0, 1, 1],\n",
    "          [0, 1, 1],\n",
    "          [0, 0, 0]]\n",
    "ways = {}\n",
    "path = []\n",
    "w = -1\n",
    "assert len(weighted_escapes(maze_1, w)) == 4, 'Mission failed'\n",
    "assert weighted_escape_length(maze_1, w) == -1, 'Mission failed'"
   ]
  },
  {
   "cell_type": "code",
   "execution_count": null,
   "metadata": {},
   "outputs": [],
   "source": []
  },
  {
   "cell_type": "code",
   "execution_count": null,
   "metadata": {},
   "outputs": [],
   "source": []
  }
 ],
 "metadata": {
  "kernelspec": {
   "display_name": "Python 3",
   "language": "python",
   "name": "python3"
  },
  "language_info": {
   "codemirror_mode": {
    "name": "ipython",
    "version": 3
   },
   "file_extension": ".py",
   "mimetype": "text/x-python",
   "name": "python",
   "nbconvert_exporter": "python",
   "pygments_lexer": "ipython3",
   "version": "3.8.5"
  }
 },
 "nbformat": 4,
 "nbformat_minor": 4
}
