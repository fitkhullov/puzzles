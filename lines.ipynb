{
 "cells": [
  {
   "cell_type": "markdown",
   "metadata": {},
   "source": [
    "### <b> Lines 1D"
   ]
  },
  {
   "cell_type": "markdown",
   "metadata": {},
   "source": [
    "* In <i>lines</i> computer game, a player sets balls of different color in a line. When a continuous block of three or more balls of the same color is formed, it is removed from the line. In this case, all the balls are shifted to each other, and the situation may be repeated. Write a function that determines how many balls will be destroyed. There can be at most one continuous block of three or more same-colored balls at the initital moment.\n"
   ]
  },
  {
   "cell_type": "markdown",
   "metadata": {},
   "source": [
    "* Input data: list A with initial balls disposition. Balls number $\\leq$ 1000, balls color can be from 0 to 9, each color has its own integer.\n",
    "\n",
    "* Output data: the number of balls that will be destroyed."
   ]
  },
  {
   "cell_type": "code",
   "execution_count": 4,
   "metadata": {},
   "outputs": [],
   "source": [
    "def lines(a):\n",
    "    k = 0\n",
    "    length = 0\n",
    "    start_length = len(a)\n",
    "    while k < len(a) - 1:\n",
    "        if a[k] == a[k+1]:\n",
    "            start_idx = k\n",
    "            length = 2\n",
    "            while (k+2 < len(a)) and (a[k+1] == a[k+2]):\n",
    "                k += 1\n",
    "                length += 1\n",
    "            if length >= 3:\n",
    "                for x in range(length):\n",
    "                    a.pop(start_idx)\n",
    "                k = -1\n",
    "                length = 0\n",
    "            if length < 3:\n",
    "                length = 0            \n",
    "        k += 1\n",
    "    return start_length - len(a)"
   ]
  },
  {
   "cell_type": "markdown",
   "metadata": {},
   "source": [
    "### <b> Test 1"
   ]
  },
  {
   "cell_type": "code",
   "execution_count": 5,
   "metadata": {},
   "outputs": [
    {
     "data": {
      "text/plain": [
       "3"
      ]
     },
     "execution_count": 5,
     "metadata": {},
     "output_type": "execute_result"
    }
   ],
   "source": [
    "line = [1,1,1,0,0,2]\n",
    "lines(line)"
   ]
  },
  {
   "cell_type": "markdown",
   "metadata": {},
   "source": [
    "### <b> Test 2"
   ]
  },
  {
   "cell_type": "code",
   "execution_count": 7,
   "metadata": {},
   "outputs": [
    {
     "data": {
      "text/plain": [
       "16"
      ]
     },
     "execution_count": 7,
     "metadata": {},
     "output_type": "execute_result"
    }
   ],
   "source": [
    "line = [1,1,1,0,0,2,2,2,2,0,1,1,3,3,3,1]\n",
    "lines(line)"
   ]
  },
  {
   "cell_type": "markdown",
   "metadata": {},
   "source": [
    "### <b>Test 3"
   ]
  },
  {
   "cell_type": "code",
   "execution_count": 8,
   "metadata": {},
   "outputs": [
    {
     "data": {
      "text/plain": [
       "0"
      ]
     },
     "execution_count": 8,
     "metadata": {},
     "output_type": "execute_result"
    }
   ],
   "source": [
    "line = [1,1,0,0,2,2]\n",
    "lines(line)"
   ]
  },
  {
   "cell_type": "code",
   "execution_count": null,
   "metadata": {},
   "outputs": [],
   "source": []
  }
 ],
 "metadata": {
  "kernelspec": {
   "display_name": "Python 3",
   "language": "python",
   "name": "python3"
  },
  "language_info": {
   "codemirror_mode": {
    "name": "ipython",
    "version": 3
   },
   "file_extension": ".py",
   "mimetype": "text/x-python",
   "name": "python",
   "nbconvert_exporter": "python",
   "pygments_lexer": "ipython3",
   "version": "3.8.5"
  }
 },
 "nbformat": 4,
 "nbformat_minor": 4
}
