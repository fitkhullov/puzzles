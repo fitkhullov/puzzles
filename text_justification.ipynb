{
 "cells": [
  {
   "cell_type": "markdown",
   "metadata": {},
   "source": [
    "### <b> Text justification"
   ]
  },
  {
   "cell_type": "markdown",
   "metadata": {},
   "source": [
    "### In real life typesetting, it is okay to have empty space at the of the last line of a paragraph. The problem is to implement an algorithm that arranges a given sequence of words in the same order, but in such a way that the given metric is minimal. Ignore the penalty for the last line. "
   ]
  },
  {
   "cell_type": "markdown",
   "metadata": {},
   "source": [
    "$$ metric(n, k) = \\sum_{i = 1}^{m-1} (n - k_i)^3  $$"
   ]
  },
  {
   "cell_type": "markdown",
   "metadata": {},
   "source": [
    "* <b>n</b> - length of the line, $k_i$ - i-filled line length, <b>m</b> - number of line"
   ]
  },
  {
   "cell_type": "code",
   "execution_count": 3,
   "metadata": {},
   "outputs": [],
   "source": [
    "import math\n",
    "\n",
    "def tj_cost(L, W):\n",
    "    n = len(W)\n",
    "    tbl = [math.inf] * (n + 1)\n",
    "    tbl[0] = 0\n",
    "    for i in range(1, n + 1):\n",
    "        length = -1\n",
    "        for j in range(i - 1, -1, -1):\n",
    "            length += 1 + len(W[j])\n",
    "            if length > L:\n",
    "                P = math.inf\n",
    "            elif i == n:\n",
    "                P = 0\n",
    "            else:\n",
    "                P = (L - length) ** 3\n",
    "            tbl[i] = min(tbl[i], tbl[j] + P)\n",
    "    return tbl[n]"
   ]
  },
  {
   "cell_type": "markdown",
   "metadata": {},
   "source": [
    "### <b> Test 1"
   ]
  },
  {
   "cell_type": "code",
   "execution_count": 5,
   "metadata": {},
   "outputs": [
    {
     "data": {
      "text/plain": [
       "9"
      ]
     },
     "execution_count": 5,
     "metadata": {},
     "output_type": "execute_result"
    }
   ],
   "source": [
    "# \n",
    "# L = 5\n",
    "# text txt ttxtt ->\n",
    "# #####\n",
    "# text_\n",
    "# txt__\n",
    "# ttxtt\n",
    "# #####\n",
    "# metric = 1 + 8 = 9\n",
    "# \n",
    "\n",
    "L = 5\n",
    "w = ['text', 'txt', 'ttxtt']\n",
    "tj_cost(L, w)"
   ]
  },
  {
   "cell_type": "markdown",
   "metadata": {},
   "source": [
    "### <b> Test 2"
   ]
  },
  {
   "cell_type": "code",
   "execution_count": 6,
   "metadata": {},
   "outputs": [
    {
     "data": {
      "text/plain": [
       "inf"
      ]
     },
     "execution_count": 6,
     "metadata": {},
     "output_type": "execute_result"
    }
   ],
   "source": [
    "# \n",
    "# L = 4\n",
    "# text txt ttxtt -> can't put with this L\n",
    "# metric = inf\n",
    "# \n",
    "L = 4\n",
    "w = ['text', 'txt', 'ttxtt']\n",
    "tj_cost(L, w)"
   ]
  },
  {
   "cell_type": "markdown",
   "metadata": {},
   "source": [
    "### <b> Test 3"
   ]
  },
  {
   "cell_type": "code",
   "execution_count": 10,
   "metadata": {},
   "outputs": [
    {
     "data": {
      "text/plain": [
       "0"
      ]
     },
     "execution_count": 10,
     "metadata": {},
     "output_type": "execute_result"
    }
   ],
   "source": [
    "# \n",
    "# L = 8\n",
    "# text txt ttxtt -> \n",
    "#####\n",
    "#text txt\n",
    "#ttxtt___\n",
    "#####\n",
    "#metric = 0\n",
    "L = 8\n",
    "w = ['text', 'txt', 'ttxtt']\n",
    "tj_cost(L, w)"
   ]
  },
  {
   "cell_type": "markdown",
   "metadata": {},
   "source": [
    "### <b> Test 4"
   ]
  },
  {
   "cell_type": "code",
   "execution_count": 14,
   "metadata": {},
   "outputs": [
    {
     "data": {
      "text/plain": [
       "8"
      ]
     },
     "execution_count": 14,
     "metadata": {},
     "output_type": "execute_result"
    }
   ],
   "source": [
    "# \n",
    "# L = 10\n",
    "# text txt tt ttxtt -> \n",
    "#####\n",
    "#text txt__\n",
    "#tt ttxtt__\n",
    "#####\n",
    "#metric = 18\n",
    "L = 10\n",
    "w = ['text', 'txt', 'tt', 'ttxtt']\n",
    "tj_cost(L, w)"
   ]
  },
  {
   "cell_type": "code",
   "execution_count": null,
   "metadata": {},
   "outputs": [],
   "source": []
  },
  {
   "cell_type": "code",
   "execution_count": null,
   "metadata": {},
   "outputs": [],
   "source": []
  }
 ],
 "metadata": {
  "kernelspec": {
   "display_name": "Python 3",
   "language": "python",
   "name": "python3"
  },
  "language_info": {
   "codemirror_mode": {
    "name": "ipython",
    "version": 3
   },
   "file_extension": ".py",
   "mimetype": "text/x-python",
   "name": "python",
   "nbconvert_exporter": "python",
   "pygments_lexer": "ipython3",
   "version": "3.8.5"
  }
 },
 "nbformat": 4,
 "nbformat_minor": 4
}
