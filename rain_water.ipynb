{
 "cells": [
  {
   "cell_type": "code",
   "execution_count": 5,
   "metadata": {},
   "outputs": [],
   "source": [
    "import matplotlib.pyplot as plt"
   ]
  },
  {
   "cell_type": "markdown",
   "metadata": {},
   "source": [
    "### <b> Rain water calculation"
   ]
  },
  {
   "cell_type": "markdown",
   "metadata": {},
   "source": [
    "### A landscape in a Flat World of blocks size 1 by 1 meter. The island is a set of different height columns consist of stone and surronded by the sea. Heavy rain have fallen over the island, and filled all the lowlands with water. Extra water has gone back into the sea, without increasing its level. According to the landscape of the island, determine how many blocks of water remain after rain in the lowlands on the island.\n"
   ]
  },
  {
   "cell_type": "markdown",
   "metadata": {},
   "source": [
    "* Input data: list h consisting of integers, each number corresponds to island height, <b><i>len(h)</i> $\\leq$ $10^5$, $1 \\leq h_i \\leq 10^9$"
   ]
  },
  {
   "cell_type": "markdown",
   "metadata": {},
   "source": [
    "* Output data: one integer — remain water block number."
   ]
  },
  {
   "cell_type": "code",
   "execution_count": 2,
   "metadata": {},
   "outputs": [],
   "source": [
    "def calc_rain_water(h):\n",
    "    res = 0\n",
    "    i = 0\n",
    "    length = len(h)\n",
    "    while i < length - 2:\n",
    "        if h[i] > h[i + 1]:\n",
    "            left_border = h[i]\n",
    "            start_idx = i\n",
    "            i += 1\n",
    "            while (i + 1 <= length - 1) and (h[i] <= h[i + 1]) and (left_border > h[i + 1]):\n",
    "                i += 1\n",
    "            if (i + 1 <= length - 1) and (h[i] > h[i + 1]) and (left_border > h[i + 1]):\n",
    "                while (i + 1 <= length - 1) and (left_border > h[i + 1]):\n",
    "                    i += 1\n",
    "                if i + 1 == length:\n",
    "                    res += calc_rain_water(h[start_idx:][::-1])\n",
    "                    break\n",
    "\n",
    "                elif left_border <= h[i + 1]:\n",
    "                    right_border = h[i + 1]\n",
    "                    end_idx = i + 1\n",
    "            elif (i + 1 <= length - 1) and (h[i] <= h[i + 1]) and (left_border <= h[i + 1]):\n",
    "                right_border = h[i + 1]\n",
    "                end_idx = i + 1\n",
    "            elif (i + 1 == length) and (h[i-1] <= h[i]) and (left_border > h[i]):\n",
    "                right_border = h[i]\n",
    "                end_idx = i\n",
    "            lower_bound = left_border if left_border < right_border else right_border\n",
    "            for j in range(start_idx + 1, end_idx):\n",
    "                res += lower_bound - h[j]\n",
    "\n",
    "        i += 1\n",
    "    return res"
   ]
  },
  {
   "cell_type": "markdown",
   "metadata": {},
   "source": [
    "### <b> Test 1"
   ]
  },
  {
   "cell_type": "code",
   "execution_count": 13,
   "metadata": {},
   "outputs": [
    {
     "data": {
      "text/plain": [
       "0"
      ]
     },
     "execution_count": 13,
     "metadata": {},
     "output_type": "execute_result"
    }
   ],
   "source": [
    "h = [5, 4, 3, 2, 1]\n",
    "calc_rain_water(h)"
   ]
  },
  {
   "cell_type": "code",
   "execution_count": 14,
   "metadata": {},
   "outputs": [
    {
     "data": {
      "image/png": "[encoded data removed]",
      "text/plain": [
       "<Figure size 432x288 with 1 Axes>"
      ]
     },
     "metadata": {
      "needs_background": "light"
     },
     "output_type": "display_data"
    }
   ],
   "source": [
    "plt.bar(range(len(h)), h)\n",
    "plt.show()"
   ]
  },
  {
   "cell_type": "markdown",
   "metadata": {},
   "source": [
    "### <b> Test 2"
   ]
  },
  {
   "cell_type": "code",
   "execution_count": 15,
   "metadata": {},
   "outputs": [
    {
     "data": {
      "text/plain": [
       "2"
      ]
     },
     "execution_count": 15,
     "metadata": {},
     "output_type": "execute_result"
    }
   ],
   "source": [
    "h = [5, 4, 5, 4, 3, 4, 3, 2, 1]\n",
    "calc_rain_water(h)"
   ]
  },
  {
   "cell_type": "code",
   "execution_count": 16,
   "metadata": {},
   "outputs": [
    {
     "data": {
      "image/png": "[encoded data removed]",
      "text/plain": [
       "<Figure size 432x288 with 1 Axes>"
      ]
     },
     "metadata": {
      "needs_background": "light"
     },
     "output_type": "display_data"
    }
   ],
   "source": [
    "plt.bar(range(len(h)), h)\n",
    "plt.show()"
   ]
  },
  {
   "cell_type": "markdown",
   "metadata": {},
   "source": [
    "### <b> Test 3"
   ]
  },
  {
   "cell_type": "code",
   "execution_count": 17,
   "metadata": {},
   "outputs": [
    {
     "data": {
      "text/plain": [
       "16"
      ]
     },
     "execution_count": 17,
     "metadata": {},
     "output_type": "execute_result"
    }
   ],
   "source": [
    "h = [9, 3, 4, 5, 6, 3, 2, 1, 4, 5]\n",
    "calc_rain_water(h)"
   ]
  },
  {
   "cell_type": "code",
   "execution_count": 18,
   "metadata": {},
   "outputs": [
    {
     "data": {
      "image/png": "[encoded data removed]",
      "text/plain": [
       "<Figure size 432x288 with 1 Axes>"
      ]
     },
     "metadata": {
      "needs_background": "light"
     },
     "output_type": "display_data"
    }
   ],
   "source": [
    "plt.bar(range(len(h)), h)\n",
    "plt.show()"
   ]
  },
  {
   "cell_type": "markdown",
   "metadata": {},
   "source": [
    "### <b> Test 4"
   ]
  },
  {
   "cell_type": "code",
   "execution_count": 19,
   "metadata": {},
   "outputs": [
    {
     "data": {
      "text/plain": [
       "10"
      ]
     },
     "execution_count": 19,
     "metadata": {},
     "output_type": "execute_result"
    }
   ],
   "source": [
    "h = [1, 3, 4, 5, 6, 3, 2, 1, 4, 5]\n",
    "calc_rain_water(h)"
   ]
  },
  {
   "cell_type": "code",
   "execution_count": 20,
   "metadata": {},
   "outputs": [
    {
     "data": {
      "image/png": "[encoded data removed]",
      "text/plain": [
       "<Figure size 432x288 with 1 Axes>"
      ]
     },
     "metadata": {
      "needs_background": "light"
     },
     "output_type": "display_data"
    }
   ],
   "source": [
    "plt.bar(range(len(h)), h)\n",
    "plt.show()"
   ]
  },
  {
   "cell_type": "code",
   "execution_count": null,
   "metadata": {},
   "outputs": [],
   "source": []
  }
 ],
 "metadata": {
  "kernelspec": {
   "display_name": "Python 3",
   "language": "python",
   "name": "python3"
  },
  "language_info": {
   "codemirror_mode": {
    "name": "ipython",
    "version": 3
   },
   "file_extension": ".py",
   "mimetype": "text/x-python",
   "name": "python",
   "nbconvert_exporter": "python",
   "pygments_lexer": "ipython3",
   "version": "3.8.5"
  }
 },
 "nbformat": 4,
 "nbformat_minor": 4
}
