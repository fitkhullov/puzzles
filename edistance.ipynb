{
 "cells": [
  {
   "cell_type": "markdown",
   "metadata": {},
   "source": [
    "### <b> Edit distance"
   ]
  },
  {
   "cell_type": "markdown",
   "metadata": {},
   "source": [
    "# Part 1"
   ]
  },
  {
   "cell_type": "markdown",
   "metadata": {},
   "source": [
    "* Input data: two strings A, B\n",
    "* Outpud data: the smallest number of operations (insertion, deletion, substitution) needed to transform A to B."
   ]
  },
  {
   "cell_type": "code",
   "execution_count": 2,
   "metadata": {},
   "outputs": [],
   "source": [
    "def edistance(A: str, B: str):\n",
    "    n = len(A)\n",
    "    m = len(B)\n",
    "    D = [[0 for j in range(m+1)] for i in range(n+1)]\n",
    "    for j in range(m+1):\n",
    "        D[0][j] = j\n",
    "    for i in range(n+1):\n",
    "        D[i][0] = i\n",
    "    for i in range(1, n+1):\n",
    "        for j in range(1, m+1):\n",
    "            if A[i-1] == B[j-1]:\n",
    "                D[i][j] = D[i-1][j-1]\n",
    "            else:\n",
    "                D[i][j] = 1 + min(D[i-1][j], D[i][j-1], D[i-1][j-1])\n",
    "    return D[n][m]"
   ]
  },
  {
   "cell_type": "markdown",
   "metadata": {},
   "source": [
    "### <b> Test 1"
   ]
  },
  {
   "cell_type": "code",
   "execution_count": 3,
   "metadata": {},
   "outputs": [
    {
     "data": {
      "text/plain": [
       "1"
      ]
     },
     "execution_count": 3,
     "metadata": {},
     "output_type": "execute_result"
    }
   ],
   "source": [
    "A = 'tramslate'\n",
    "B = 'translate'\n",
    "edistance(A,B)"
   ]
  },
  {
   "cell_type": "markdown",
   "metadata": {},
   "source": [
    "### <b> Test 2"
   ]
  },
  {
   "cell_type": "code",
   "execution_count": 4,
   "metadata": {},
   "outputs": [
    {
     "data": {
      "text/plain": [
       "5"
      ]
     },
     "execution_count": 4,
     "metadata": {},
     "output_type": "execute_result"
    }
   ],
   "source": [
    "A = 'lol'\n",
    "B = 'rolling'\n",
    "edistance(A,B)"
   ]
  },
  {
   "cell_type": "markdown",
   "metadata": {},
   "source": [
    "### <b> Test 3"
   ]
  },
  {
   "cell_type": "code",
   "execution_count": 7,
   "metadata": {},
   "outputs": [
    {
     "data": {
      "text/plain": [
       "0"
      ]
     },
     "execution_count": 7,
     "metadata": {},
     "output_type": "execute_result"
    }
   ],
   "source": [
    "A = ''\n",
    "B = ''\n",
    "edistance(A,B)"
   ]
  },
  {
   "cell_type": "markdown",
   "metadata": {},
   "source": [
    "### <b> Test 4"
   ]
  },
  {
   "cell_type": "code",
   "execution_count": 8,
   "metadata": {},
   "outputs": [
    {
     "data": {
      "text/plain": [
       "3"
      ]
     },
     "execution_count": 8,
     "metadata": {},
     "output_type": "execute_result"
    }
   ],
   "source": [
    "A = ''\n",
    "B = 'abc'\n",
    "edistance(A,B)"
   ]
  },
  {
   "cell_type": "markdown",
   "metadata": {},
   "source": [
    "# Part 2"
   ]
  },
  {
   "cell_type": "markdown",
   "metadata": {},
   "source": [
    "* Input data: two strings A, B and $[w_{del}, w_{ins}, w_{sub}]$ — weights of the operations.\n",
    "* Outpud data: the smallest number of operations (insertion, deletion, substitution) needed to transform A to B."
   ]
  },
  {
   "cell_type": "code",
   "execution_count": 5,
   "metadata": {},
   "outputs": [],
   "source": [
    "def weighted_edistance(A: str, B: str, wdel: int, wins: int, wsub: int):\n",
    "    n = len(A)\n",
    "    m = len(B)\n",
    "    D = [[0 for j in range(m+1)] for i in range(n+1)]\n",
    "    for j in range(m+1):\n",
    "        D[0][j] = wins*j\n",
    "    for i in range(n+1):\n",
    "        D[i][0] = wdel*i\n",
    "    for i in range(1, n+1):\n",
    "        for j in range(1, m+1):\n",
    "            if A[i-1] == B[j-1]:\n",
    "                D[i][j] = D[i-1][j-1]\n",
    "            else:\n",
    "                D[i][j] = min(wdel + D[i-1][j], wins + D[i][j-1], wsub + D[i-1][j-1])\n",
    "    return D[n][m]"
   ]
  },
  {
   "cell_type": "markdown",
   "metadata": {},
   "source": [
    "### <b> Test 1"
   ]
  },
  {
   "cell_type": "code",
   "execution_count": 6,
   "metadata": {},
   "outputs": [
    {
     "name": "stdout",
     "output_type": "stream",
     "text": [
      "weighted_edistance: 3\n",
      "edistance: 3\n"
     ]
    }
   ],
   "source": [
    "A = 'giiglw'\n",
    "B = 'google'\n",
    "w_del, w_ins, w_sub = 1, 1, 1\n",
    "print(f'weighted_edistance: {weighted_edistance(A, B, w_del, w_ins, w_sub)}')\n",
    "print(f'edistance: {edistance(A, B)}')\n"
   ]
  },
  {
   "cell_type": "code",
   "execution_count": null,
   "metadata": {},
   "outputs": [],
   "source": []
  }
 ],
 "metadata": {
  "kernelspec": {
   "display_name": "Python 3",
   "language": "python",
   "name": "python3"
  },
  "language_info": {
   "codemirror_mode": {
    "name": "ipython",
    "version": 3
   },
   "file_extension": ".py",
   "mimetype": "text/x-python",
   "name": "python",
   "nbconvert_exporter": "python",
   "pygments_lexer": "ipython3",
   "version": "3.8.5"
  }
 },
 "nbformat": 4,
 "nbformat_minor": 4
}
