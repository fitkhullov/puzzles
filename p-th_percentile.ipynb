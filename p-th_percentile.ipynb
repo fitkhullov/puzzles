{
 "cells": [
  {
   "cell_type": "markdown",
   "metadata": {},
   "source": [
    "### <b> P-th percentile"
   ]
  },
  {
   "cell_type": "markdown",
   "metadata": {},
   "source": [
    "### P-th percentile of a list of K ordered values (sorted from least to greatest) is the smallest value in the list such that no more than P percent of the data is strictly less than the value and at least P percent of the data is less than or equal to that value."
   ]
  },
  {
   "cell_type": "markdown",
   "metadata": {},
   "source": [
    "* Input data: the function takes two arrays a and b and quantile parameter p.\n",
    "* Output data: one int — p-th percentile of merged arrays."
   ]
  },
  {
   "cell_type": "code",
   "execution_count": 1,
   "metadata": {},
   "outputs": [],
   "source": [
    "from math import ceil\n",
    "def find_percentile(a, b, p):\n",
    "    n1 = len(a)\n",
    "    n2 = len(b)\n",
    "    idx = ceil(p / 100 * (n1 + n2))\n",
    "    if n1 == 0:\n",
    "        return b[idx - 1]\n",
    "    elif n2 == 0:\n",
    "        return a[idx - 1]\n",
    "    elif p == 100:\n",
    "        res = a[-1] if a[-1] > b[-1] else b[-1]\n",
    "        return res\n",
    "    elif p == 0:\n",
    "        res = a[0] if a[0] < b[0] else b[0]\n",
    "        return res\n",
    "    if p <= 50:\n",
    "        res = None\n",
    "        i = 0\n",
    "        j = 0\n",
    "        while i < n1 and j < n2 and i + j < idx:\n",
    "            if a[i] < b[j]:\n",
    "                res = a[i]\n",
    "                i += 1\n",
    "            else:\n",
    "                res = b[j]\n",
    "                j += 1\n",
    "        if i + j < idx and i >= n1:\n",
    "            curr_idx = idx - i - 1\n",
    "            res = b[curr_idx]\n",
    "        elif i + j < idx and j >= n2:\n",
    "            curr_idx = idx - j - 1\n",
    "            res = a[curr_idx]\n",
    "        return res\n",
    "    else:\n",
    "        negative_idx = -(n1 + n2 - idx) - 1\n",
    "        res = None\n",
    "        i = -1\n",
    "        j = -1\n",
    "        new_n1 = -n1\n",
    "        new_n2 = -n2\n",
    "        while i >= new_n1 and j >= new_n2 and (i + j + 2) > negative_idx:\n",
    "            if a[i] > b[j]:\n",
    "                res = a[i]\n",
    "                i -= 1\n",
    "            else:\n",
    "                res = b[j]\n",
    "                j -= 1\n",
    "        if (i + j + 2) > negative_idx and i < new_n1:\n",
    "            curr_idx = negative_idx - i - 1\n",
    "            res = b[curr_idx]\n",
    "        elif (i + j + 2) > negative_idx and j < new_n2:\n",
    "            curr_idx = negative_idx - j - 1\n",
    "            res = a[curr_idx]\n",
    "        return res\n"
   ]
  },
  {
   "cell_type": "markdown",
   "metadata": {},
   "source": [
    "### <b> Test 1"
   ]
  },
  {
   "cell_type": "code",
   "execution_count": 3,
   "metadata": {},
   "outputs": [
    {
     "data": {
      "text/plain": [
       "11"
      ]
     },
     "execution_count": 3,
     "metadata": {},
     "output_type": "execute_result"
    }
   ],
   "source": [
    "#1,4,5,5,7,8,9,11,12,13,15,24,26,29,30, 50-th percentile  = 11\n",
    "a = [1,4,7,8,11,24,26,29]\n",
    "b = [5,5,9,12,13,15,30]\n",
    "p = 50\n",
    "find_percentile(a, b, p)"
   ]
  },
  {
   "cell_type": "markdown",
   "metadata": {},
   "source": [
    "### <b> Test 2"
   ]
  },
  {
   "cell_type": "code",
   "execution_count": 4,
   "metadata": {},
   "outputs": [
    {
     "data": {
      "text/plain": [
       "1"
      ]
     },
     "execution_count": 4,
     "metadata": {},
     "output_type": "execute_result"
    }
   ],
   "source": [
    "#1,4,5,5,7,8,9,11,12,13,15,24,26,29,30, 50-th percentile  = 11\n",
    "a = [1,4,7,8,11,24,26,29]\n",
    "b = [5,5,9,12,13,15,30]\n",
    "p = 1\n",
    "find_percentile(a, b, p)"
   ]
  },
  {
   "cell_type": "markdown",
   "metadata": {},
   "source": [
    "### <b> Test 3"
   ]
  },
  {
   "cell_type": "code",
   "execution_count": 5,
   "metadata": {},
   "outputs": [
    {
     "data": {
      "text/plain": [
       "30"
      ]
     },
     "execution_count": 5,
     "metadata": {},
     "output_type": "execute_result"
    }
   ],
   "source": [
    "#1,4,5,5,7,8,9,11,12,13,15,24,26,29,30, 50-th percentile  = 11\n",
    "a = [1,4,7,8,11,24,26,29]\n",
    "b = [5,5,9,12,13,15,30]\n",
    "p = 100\n",
    "find_percentile(a, b, p)"
   ]
  },
  {
   "cell_type": "markdown",
   "metadata": {},
   "source": [
    "### <b> Test 4"
   ]
  },
  {
   "cell_type": "code",
   "execution_count": 7,
   "metadata": {},
   "outputs": [
    {
     "data": {
      "text/plain": [
       "(1, 1)"
      ]
     },
     "execution_count": 7,
     "metadata": {},
     "output_type": "execute_result"
    }
   ],
   "source": [
    "#1,4,5,5,7,8,9,11,12,13,15,24,26,29,30, 50-th percentile  = 11\n",
    "a = [1,4,7,8,11,24,26,29]\n",
    "b = [5,5,9,12,13,15,30]\n",
    "find_percentile(a, b, 0), find_percentile(a, b, 1)"
   ]
  },
  {
   "cell_type": "code",
   "execution_count": null,
   "metadata": {},
   "outputs": [],
   "source": []
  }
 ],
 "metadata": {
  "kernelspec": {
   "display_name": "Python 3",
   "language": "python",
   "name": "python3"
  },
  "language_info": {
   "codemirror_mode": {
    "name": "ipython",
    "version": 3
   },
   "file_extension": ".py",
   "mimetype": "text/x-python",
   "name": "python",
   "nbconvert_exporter": "python",
   "pygments_lexer": "ipython3",
   "version": "3.8.5"
  }
 },
 "nbformat": 4,
 "nbformat_minor": 4
}
